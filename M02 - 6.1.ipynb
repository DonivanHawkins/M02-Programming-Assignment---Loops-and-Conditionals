{
 "cells": [
  {
   "cell_type": "code",
   "execution_count": null,
   "id": "5b966638-7251-43b7-88ca-f7ad7f4c7b43",
   "metadata": {},
   "outputs": [],
   "source": [
    "small = True\n",
    "green = False\n",
    "\n",
    "if small:\n",
    "    if green:\n",
    "        print(\"This is a pea\")\n",
    "    if not green:\n",
    "        print(\"This is a cherry\")\n",
    "if not small:\n",
    "    if green:\n",
    "        print(\"This is a watermelon\")\n",
    "    if not green:\n",
    "        print(\"This is a pumpkin\")"
   ]
  }
 ],
 "metadata": {
  "kernelspec": {
   "display_name": "Python 3 (ipykernel)",
   "language": "python",
   "name": "python3"
  },
  "language_info": {
   "codemirror_mode": {
    "name": "ipython",
    "version": 3
   },
   "file_extension": ".py",
   "mimetype": "text/x-python",
   "name": "python",
   "nbconvert_exporter": "python",
   "pygments_lexer": "ipython3",
   "version": "3.11.7"
  }
 },
 "nbformat": 4,
 "nbformat_minor": 5
}
